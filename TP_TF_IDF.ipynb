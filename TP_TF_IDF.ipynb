{
  "nbformat": 4,
  "nbformat_minor": 0,
  "metadata": {
    "colab": {
      "provenance": [],
      "authorship_tag": "ABX9TyMr6Zctbf0b9Qwbk00Hq4jS",
      "include_colab_link": true
    },
    "kernelspec": {
      "name": "python3",
      "display_name": "Python 3"
    },
    "language_info": {
      "name": "python"
    }
  },
  "cells": [
    {
      "cell_type": "markdown",
      "metadata": {
        "id": "view-in-github",
        "colab_type": "text"
      },
      "source": [
        "<a href=\"https://colab.research.google.com/github/krissaneImen/MiraDjango1-main/blob/main/TP_TF_IDF.ipynb\" target=\"_parent\"><img src=\"https://colab.research.google.com/assets/colab-badge.svg\" alt=\"Open In Colab\"/></a>"
      ]
    },
    {
      "cell_type": "code",
      "source": [
        "import math\n",
        "\n",
        "def term_frequency(word, document):\n",
        "    return document.count(word) / len(document)\n",
        "\n",
        "def inverse_document_frequency(word, documents):\n",
        "    N = len(documents)\n",
        "    # Nombre de documents contenant le mot\n",
        "    num_documents_with_word = sum(1 for doc in documents if word in doc)\n",
        "    if num_documents_with_word == 0:\n",
        "        return 0\n",
        "    return math.log(N / num_documents_with_word)\n",
        "\n",
        "tf = term_frequency\n",
        "idf = inverse_document_frequency\n",
        "\n",
        "documents = [\n",
        "    \"le chat est sur le canapé\",\n",
        "    \"le chien est sur le tapis\",\n",
        "    \"le chat et le chien jouent ensemble\"\n",
        "]\n",
        "\n",
        "document_words = [document.split() for document in documents]\n",
        "print(document_words)\n",
        "\n",
        "# TF-IDF\n",
        "for i in range(len(document_words)):\n",
        "    doc = document_words[i]\n",
        "    print(f\"\\nDocument {i+1}:\")\n",
        "\n",
        "    for j in range(len(doc)):\n",
        "        word = doc[j]\n",
        "        tf_value = tf(word, doc)\n",
        "        idf_value = idf(word, document_words)\n",
        "        tf_idf_value = tf_value * idf_value\n",
        "\n",
        "        print(f\"Mot: {word} - TF: {tf_value:.4f} - IDF: {idf_value:.4f} - TF-IDF: {tf_idf_value:.4f}\")\n"
      ],
      "metadata": {
        "colab": {
          "base_uri": "https://localhost:8080/"
        },
        "id": "wfvl07Jyxfd0",
        "outputId": "bb5c7817-18b3-4f07-831f-6dc85ae49b6b"
      },
      "execution_count": 18,
      "outputs": [
        {
          "output_type": "stream",
          "name": "stdout",
          "text": [
            "[['le', 'chat', 'est', 'sur', 'le', 'canapé'], ['le', 'chien', 'est', 'sur', 'le', 'tapis'], ['le', 'chat', 'et', 'le', 'chien', 'jouent', 'ensemble']]\n",
            "\n",
            "Document 1:\n",
            "Mot: le - TF: 0.3333 - IDF: 0.0000 - TF-IDF: 0.0000\n",
            "Mot: chat - TF: 0.1667 - IDF: 0.4055 - TF-IDF: 0.0676\n",
            "Mot: est - TF: 0.1667 - IDF: 0.4055 - TF-IDF: 0.0676\n",
            "Mot: sur - TF: 0.1667 - IDF: 0.4055 - TF-IDF: 0.0676\n",
            "Mot: le - TF: 0.3333 - IDF: 0.0000 - TF-IDF: 0.0000\n",
            "Mot: canapé - TF: 0.1667 - IDF: 1.0986 - TF-IDF: 0.1831\n",
            "\n",
            "Document 2:\n",
            "Mot: le - TF: 0.3333 - IDF: 0.0000 - TF-IDF: 0.0000\n",
            "Mot: chien - TF: 0.1667 - IDF: 0.4055 - TF-IDF: 0.0676\n",
            "Mot: est - TF: 0.1667 - IDF: 0.4055 - TF-IDF: 0.0676\n",
            "Mot: sur - TF: 0.1667 - IDF: 0.4055 - TF-IDF: 0.0676\n",
            "Mot: le - TF: 0.3333 - IDF: 0.0000 - TF-IDF: 0.0000\n",
            "Mot: tapis - TF: 0.1667 - IDF: 1.0986 - TF-IDF: 0.1831\n",
            "\n",
            "Document 3:\n",
            "Mot: le - TF: 0.2857 - IDF: 0.0000 - TF-IDF: 0.0000\n",
            "Mot: chat - TF: 0.1429 - IDF: 0.4055 - TF-IDF: 0.0579\n",
            "Mot: et - TF: 0.1429 - IDF: 1.0986 - TF-IDF: 0.1569\n",
            "Mot: le - TF: 0.2857 - IDF: 0.0000 - TF-IDF: 0.0000\n",
            "Mot: chien - TF: 0.1429 - IDF: 0.4055 - TF-IDF: 0.0579\n",
            "Mot: jouent - TF: 0.1429 - IDF: 1.0986 - TF-IDF: 0.1569\n",
            "Mot: ensemble - TF: 0.1429 - IDF: 1.0986 - TF-IDF: 0.1569\n"
          ]
        }
      ]
    }
  ]
}